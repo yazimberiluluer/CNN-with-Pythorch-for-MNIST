{
  "nbformat": 4,
  "nbformat_minor": 0,
  "metadata": {
    "colab": {
      "provenance": [],
      "authorship_tag": "ABX9TyM+Ip77y/o5PGD6SZGQnoWd",
      "include_colab_link": true
    },
    "kernelspec": {
      "name": "python3",
      "display_name": "Python 3"
    },
    "language_info": {
      "name": "python"
    },
    "accelerator": "GPU",
    "gpuClass": "standard"
  },
  "cells": [
    {
      "cell_type": "markdown",
      "metadata": {
        "id": "view-in-github",
        "colab_type": "text"
      },
      "source": [
        "<a href=\"https://colab.research.google.com/github/yazimberiluluer/CNN-with-Pythorch-for-MNIST/blob/main/Convolutional_Neural_Network_with_Pythorch.ipynb\" target=\"_parent\"><img src=\"https://colab.research.google.com/assets/colab-badge.svg\" alt=\"Open In Colab\"/></a>"
      ]
    },
    {
      "cell_type": "code",
      "execution_count": 44,
      "metadata": {
        "id": "ViBTtP01bd_u"
      },
      "outputs": [],
      "source": [
        "import cv2\n",
        "import torch\n",
        "import torch.nn as nn #torc hu nn üzeirnden kullanıyoruz\n",
        "import torchvision.transforms as transforms\n",
        "import torchvision.datasets as datasets #eğitim yaparken tüm verisetlerini locale indirmek vs ile uğraşmamak için\n",
        "from torch.autograd import Variable #bunun içinden variables alıyor(?)\n",
        "from torch.utils.data  import DataLoader, Dataset #torch içindeki yardımcı araçlar-> utilste\n",
        "\n",
        "import matplotlib.pyplot as plt\n",
        "from PIL import Image #PIL= Python Imaging Library ->bak\n",
        "import numpy as np \n",
        "\n",
        "from google.colab.patches import cv2_imshow\n"
      ]
    },
    {
      "cell_type": "code",
      "source": [
        "#precomputed mean and stdev \n",
        "mean_gray = 0.1307\n",
        "stdev_gray = 0.3081\n",
        "#transforms the image to tensors \n",
        "transforms_original = transforms.Compose([transforms.ToTensor(),\n",
        "                    transforms.Normalize((mean_gray,),(stdev_gray,))])  #resim dönüşümü için trnasofrmsu kullanmıştık, compose da zincirliyo\n",
        "transforms_photo = transforms.Compose([transforms.Resize((28,28)),\n",
        "                                       transforms.ToTensor(),\n",
        "                                       transforms.Normalize((mean_gray,), (stdev_gray,))])"
      ],
      "metadata": {
        "id": "9YVcLMi7eGw4"
      },
      "execution_count": 25,
      "outputs": []
    },
    {
      "cell_type": "markdown",
      "source": [
        "#Load Dataset"
      ],
      "metadata": {
        "id": "YNXjJXjFlTRs"
      }
    },
    {
      "cell_type": "code",
      "source": [
        "train_dataset = datasets.MNIST(root = './data',\n",
        "                               train = True,\n",
        "                               transform = transforms_original,\n",
        "                               download = True)\n",
        "test_dataset = datasets.MNIST(root = './data',\n",
        "                               train = False,\n",
        "                               transform = transforms_original,)"
      ],
      "metadata": {
        "id": "vFMMASdKlO1e"
      },
      "execution_count": 26,
      "outputs": []
    },
    {
      "cell_type": "markdown",
      "source": [
        "#Random Imagee"
      ],
      "metadata": {
        "id": "g2X0d1i1m3D_"
      }
    },
    {
      "cell_type": "code",
      "source": [
        "import matplotlib.pyplot as plt\n",
        "# Data\n",
        "random_image = train_dataset[20][0].numpy() * stdev_gray + mean_gray\n",
        "plt.imshow(random_image.reshape(28,28), cmap='gray') #20 -> verinin indexi ,0 -> kendisini geitr demek"
      ],
      "metadata": {
        "colab": {
          "base_uri": "https://localhost:8080/",
          "height": 282
        },
        "id": "GSkKlB_7m1Ti",
        "outputId": "ef0f5156-3f06-43c9-ad84-0c8e995db9a7"
      },
      "execution_count": 27,
      "outputs": [
        {
          "output_type": "execute_result",
          "data": {
            "text/plain": [
              "<matplotlib.image.AxesImage at 0x7fb4e6834850>"
            ]
          },
          "metadata": {},
          "execution_count": 27
        },
        {
          "output_type": "display_data",
          "data": {
            "text/plain": [
              "<Figure size 432x288 with 1 Axes>"
            ],
            "image/png": "[encoded data removed]"
          },
          "metadata": {
            "needs_background": "light"
          }
        }
      ]
    },
    {
      "cell_type": "code",
      "source": [
        "# Label\n",
        "print(train_dataset[20][1])"
      ],
      "metadata": {
        "colab": {
          "base_uri": "https://localhost:8080/"
        },
        "id": "Ye2krdSM10_b",
        "outputId": "d69eb3bc-39e7-4034-a696-5be4c827986d"
      },
      "execution_count": 28,
      "outputs": [
        {
          "output_type": "stream",
          "name": "stdout",
          "text": [
            "4\n"
          ]
        }
      ]
    },
    {
      "cell_type": "code",
      "source": [
        "# Iterable Dataset\n",
        "\n",
        "batch_size = 100 #her iterasyon için kaç tane göndericeksin\n",
        "train_loader = torch.utils.data.DataLoader(dataset = train_dataset,\n",
        "                                           batch_size = batch_size,\n",
        "                                           shuffle = True)\n",
        "test_loader = torch.utils.data.DataLoader(dataset = test_dataset,\n",
        "                                          batch_size = batch_size,\n",
        "                                          shuffle = False)"
      ],
      "metadata": {
        "id": "vINtMWX72QR-"
      },
      "execution_count": 29,
      "outputs": []
    },
    {
      "cell_type": "code",
      "source": [
        "len(train_loader) #60000 i 100 er 100 er ayırdık çünkü batch_size la"
      ],
      "metadata": {
        "colab": {
          "base_uri": "https://localhost:8080/"
        },
        "id": "aZqxXUrM3ajH",
        "outputId": "d5cebc72-1205-41b7-8a88-0b3f7aaab4b4"
      },
      "execution_count": 30,
      "outputs": [
        {
          "output_type": "execute_result",
          "data": {
            "text/plain": [
              "600"
            ]
          },
          "metadata": {},
          "execution_count": 30
        }
      ]
    },
    {
      "cell_type": "code",
      "source": [
        "len(test_loader)"
      ],
      "metadata": {
        "colab": {
          "base_uri": "https://localhost:8080/"
        },
        "id": "Y44lLOsM3dlT",
        "outputId": "7bf1ae48-2537-4562-d582-901f4f45e520"
      },
      "execution_count": 31,
      "outputs": [
        {
          "output_type": "execute_result",
          "data": {
            "text/plain": [
              "100"
            ]
          },
          "metadata": {},
          "execution_count": 31
        }
      ]
    },
    {
      "cell_type": "code",
      "source": [
        "len(train_dataset)"
      ],
      "metadata": {
        "colab": {
          "base_uri": "https://localhost:8080/"
        },
        "id": "a_Om0hua3gS9",
        "outputId": "42dd28c8-e2ef-4d71-8edd-3c7602e50d95"
      },
      "execution_count": 32,
      "outputs": [
        {
          "output_type": "execute_result",
          "data": {
            "text/plain": [
              "60000"
            ]
          },
          "metadata": {},
          "execution_count": 32
        }
      ]
    },
    {
      "cell_type": "code",
      "source": [
        "print('Training Set (images) : {}'.format(len(train_dataset)))\n",
        "print('Test Set (images) : {}'.format(len(test_dataset)))\n",
        "print('Train Loader Batches :  {}'.format(len(train_loader)))\n",
        "print('Test Loader Batches : {}'.format(len(test_loader)))"
      ],
      "metadata": {
        "colab": {
          "base_uri": "https://localhost:8080/"
        },
        "id": "n8MUQufV3y1C",
        "outputId": "f4846780-b7b1-4352-9bf3-d9116850c2d0"
      },
      "execution_count": 33,
      "outputs": [
        {
          "output_type": "stream",
          "name": "stdout",
          "text": [
            "Training Set (images) : 60000\n",
            "Test Set (images) : 10000\n",
            "Train Loader Batches :  600\n",
            "Test Loader Batches : 100\n"
          ]
        }
      ]
    },
    {
      "cell_type": "markdown",
      "source": [
        "# Model Class"
      ],
      "metadata": {
        "id": "ge9s2GiK4h_d"
      }
    },
    {
      "cell_type": "code",
      "source": [
        "class CNN(nn.Module): #nn den kalıtım aldık\n",
        "  def __init__(self):\n",
        "    super(CNN, self).__init__() \n",
        "    self.cnn1 = nn.Conv2d(in_channels=1, out_channels=8, kernel_size=3,stride=1, padding=1)\n",
        "    #nn modülündeki con2d metodunu kullanıyoruz -> parametreleri var\n",
        "    #PARAMETRELERİN AÇIKLAMALARINI BURAYA YAZ\n",
        "    self.batchnorm1 = nn.BatchNorm2d(8) # batch normalization ile ağdaki katmanlar\n",
        "    #önceki katmanların öğrenmesini beklemek zorunda kalmadan eş zamanlı öğrenme gerçekleşir\n",
        "    #(eğitimi hızlandırmak için yani)\n",
        "    #ANLAMADIM -> sonuçta hidden layerların outputu diğerinin inputu nasıl beklemiyo?\n",
        "    # 8 olmasının nedeni, batch norm. nn ün sonuna eklenir ve aldığı parametre nn ün output channells parametresinin boyutu kadar olmalıymış ->why\n",
        "    self.relu = nn.ReLU()\n",
        "    self.maxpool1 = nn.MaxPool2d(kernel_size=2)\n",
        "\n",
        "    #MaxPool dan sonra her output feature map i 14 (28*28 lik ti, 28/2 -> 2 sanırım kernel size dan)\n",
        "\n",
        "    self.cnn2 = nn.Conv2d(in_channels=8, out_channels=32, kernel_size=5, stride=1, padding=2)\n",
        "    self.batchnorm2 = nn.BatchNorm2d(32)\n",
        "    self.maxpool2 = nn.MaxPool2d(kernel_size=2)\n",
        "\n",
        "    #MaxPool dan sonra her feature map 7 (14 tü en son 14/2)\n",
        "    #Feature mapleri flattenladık -> vektör haline getirdik yani\n",
        "      #32 feature map var(?) ve her biri 7*7 lik\n",
        "      #32*7*7=1568 yani şu an[1,1568] lik vektör oldu sonra bunu fully connected katmanına veriyoruz\n",
        "\n",
        "    self.fc1 = nn.Linear(in_features=1568, out_features=600)\n",
        "    self.dropout = nn.Dropout(p=0.5) #ezberlemeyi engelliyormuş\n",
        "    #bir önceki katman bir sonrakine bir şeyler gönderiyor, dropout uygulandığında dropoutun yüzdesine göre\n",
        "    #random bazı nöronlara input göndermiyor yani o nöornların değerleini yokediyor -> 0.5 bunun oranı işte \n",
        "    #nöronların yarısının değerlerini sil\n",
        "    self.fc2 = nn.Linear(in_features=600, out_features=10) #out_feature 10 çünkü 0-9 arasında 10 farklı sınıf var\n",
        "  \n",
        "  def forward(self, x):\n",
        "    x = self.cnn1(x)\n",
        "    x = self.batchnorm1(x)\n",
        "    x = self.relu(x)\n",
        "    x = self.maxpool1(x)\n",
        "    x = self.cnn2(x)\n",
        "    x = self.batchnorm2(x)\n",
        "    x = self.maxpool2(x)\n",
        "    x = x.view(-1,1568)  # BU NE???\n",
        "    x = self.fc1(x)\n",
        "    x = self.relu(x)\n",
        "    x = self.dropout(x)\n",
        "    x = self.fc2(x)\n",
        "    return x\n"
      ],
      "metadata": {
        "id": "n3zGWKZ-4eRz"
      },
      "execution_count": 34,
      "outputs": []
    },
    {
      "cell_type": "code",
      "source": [
        "model = CNN() #CNN classının nesnesini oluşturduk\n",
        "CUDA = torch.cuda.is_available() #cudayı kotnrol etmek için aktif mi vs\n",
        "if CUDA:\n",
        "  model = model.cuda() #her bir nesnein cuda diye bir fonksiyonu var ve eğer cuda aktifse \n",
        "  #yani sistemde NVIDIA kartları ve cuda sorunsuz kuruluysa hesaplamayı GPU üzerinde yap yani modeli GPU dan çalıştır\n",
        "  #is_available() ile bunu sorugladık\n",
        "loss_fn = nn.CrossEntropyLoss()\n",
        "optimizer = torch.optim.SGD(model.parameters(), lr = 0.01) #anlamadım\n"
      ],
      "metadata": {
        "id": "n8QAPTBaEqXu"
      },
      "execution_count": 35,
      "outputs": []
    },
    {
      "cell_type": "code",
      "source": [
        "iteration = 0\n",
        "correct = 0\n",
        "\n",
        "for i,(inputs, labels) in enumerate(train_loader): #inputlar train_loader dan geliyor\n",
        "#train_loader da belirlediğimiz batch_size ile iterasyon yapılacak şekilde parça parça veriyor\n",
        "\n",
        "  CUDA = torch.cuda.is_available()\n",
        "  if CUDA:\n",
        "    inputs = inputs.cuda()\n",
        "    labels = labels.cuda()\n",
        "\n",
        "    print(\"Her bir iterasyonda...\")\n",
        "    print(\"Input Shape:  \", inputs.shape)\n",
        "    print(\"Labels Shape: \", labels.shape)\n",
        "    output = model(inputs)\n",
        "    print(\"Output Shape:  \", output.shape) \n",
        "    _, predicted = torch.max(output,1)  # -> BU SATIRI ANLAMADIM\n",
        "    print(\"Predicted Shape: \", predicted.shape)\n",
        "    print(\"Predicted Tensor: \")\n",
        "    print(predicted)\n",
        "    correct += (predicted == labels).sum()\n",
        "    break"
      ],
      "metadata": {
        "colab": {
          "base_uri": "https://localhost:8080/"
        },
        "id": "uBIRTgVqF-az",
        "outputId": "9e705a34-05c9-42dd-fd84-d5fe4e56c874"
      },
      "execution_count": 36,
      "outputs": [
        {
          "output_type": "stream",
          "name": "stdout",
          "text": [
            "Her bir iterasyonda...\n",
            "Input Shape:   torch.Size([100, 1, 28, 28])\n",
            "Labels Shape:  torch.Size([100])\n",
            "Output Shape:   torch.Size([100, 10])\n",
            "Predicted Shape:  torch.Size([100])\n",
            "Predicted Tensor: \n",
            "tensor([1, 9, 9, 8, 8, 8, 1, 8, 8, 6, 6, 6, 6, 6, 6, 8, 6, 6, 8, 8, 8, 8, 6, 6,\n",
            "        6, 9, 6, 9, 9, 9, 8, 6, 6, 2, 8, 9, 8, 6, 8, 9, 6, 8, 6, 9, 9, 8, 8, 3,\n",
            "        9, 9, 6, 6, 8, 8, 6, 9, 6, 6, 8, 7, 8, 7, 6, 9, 8, 9, 8, 6, 6, 6, 6, 8,\n",
            "        6, 6, 6, 8, 8, 8, 6, 9, 8, 9, 6, 8, 9, 6, 6, 3, 6, 8, 6, 7, 6, 8, 9, 8,\n",
            "        3, 8, 8, 6], device='cuda:0')\n"
          ]
        }
      ]
    },
    {
      "cell_type": "markdown",
      "source": [
        "# Training the Model"
      ],
      "metadata": {
        "id": "7oMXd513Ivwf"
      }
    },
    {
      "cell_type": "code",
      "source": [
        "num_epochs = 25\n",
        "#loss ve accuracy değerlerini lisstelerde tutuyoruz\n",
        "train_loss = []\n",
        "test_loss = []\n",
        "train_accuracy = []\n",
        "test_accuracy = []\n",
        "\n",
        "for epoch in range(num_epochs): #burası 25 kez çalışıyo\n",
        "  correct = 0\n",
        "  iterations = 0\n",
        "  iter_loss = 0.0\n",
        "\n",
        "  model.train()\n",
        "\n",
        "  for i,(inputs,labels) in enumerate(train_loader): #burası 600 kez çalışıyo\n",
        "    CUDA = torch.cuda.is_available()\n",
        "    if CUDA:\n",
        "      inputs = inputs.cuda()\n",
        "      labels = labels.cuda()\n",
        "    \n",
        "    outputs = model(inputs)\n",
        "    loss = loss_fn(outputs,labels)\n",
        "    #burada hesapladığımız loss değerini kaybetmemek için iter_loss aatıcaz\n",
        "    iter_loss += loss.item()\n",
        "    optimizer.zero_grad()\n",
        "    loss.backward()\n",
        "    optimizer.step() #update the weights\n",
        "\n",
        "    _, predicted = torch.max(outputs,1)\n",
        "    correct += (predicted == labels).sum()\n",
        "    iterations += 1\n",
        "  \n",
        "  train_loss.append(iter_loss/iterations)\n",
        "  train_accuracy.append((100*correct / len(train_dataset)))\n",
        "\n",
        "  testing_loss = 0.0\n",
        "  correct = 0\n",
        "  iterations = 0\n",
        "\n",
        "  model.eval() #nn ü evaluation moda yani değerlendirme ye sokacak\n",
        "\n",
        "  for i, (inputs,labels) in enumerate(test_loader):\n",
        "    if CUDA:\n",
        "      inputs = inputs.cuda()\n",
        "      labels = labels.cuda()\n",
        "    \n",
        "    outputs = model(inputs)\n",
        "    loss = loss_fn(outputs,labels)\n",
        "    testing_loss += loss.item()\n",
        "     \n",
        "    _, predicted = torch.max(outputs,1)\n",
        "    correct += (predicted == labels).sum()\n",
        "    iterations += 1\n",
        "  \n",
        "  test_loss.append(testing_loss/iterations)\n",
        "  test_accuracy.append((100*correct/len(test_dataset)))\n",
        "\n",
        "  print('Epoch {}/{}, Training Loss: {:.3f}, Training Accuracy: {:.3f}, Testing Loss: {:.3f}, Testing Accuracy: {:.3f}'\n",
        "  .format(epoch+1, num_epochs, train_loss[-1], train_accuracy[-1], test_loss[-1], test_accuracy[-1]))\n"
      ],
      "metadata": {
        "colab": {
          "base_uri": "https://localhost:8080/"
        },
        "id": "YoIG0dr8IuVa",
        "outputId": "cb4705a6-64b8-4473-c4da-db9fdd8f5bb7"
      },
      "execution_count": 37,
      "outputs": [
        {
          "output_type": "stream",
          "name": "stdout",
          "text": [
            "Epoch 1/25, Training Loss: 0.438, Training Accuracy: 88.535, Testing Loss: 0.137, Testing Accuracy: 96.130\n",
            "Epoch 2/25, Training Loss: 0.150, Training Accuracy: 95.745, Testing Loss: 0.090, Testing Accuracy: 97.190\n",
            "Epoch 3/25, Training Loss: 0.113, Training Accuracy: 96.723, Testing Loss: 0.071, Testing Accuracy: 97.900\n",
            "Epoch 4/25, Training Loss: 0.092, Training Accuracy: 97.302, Testing Loss: 0.061, Testing Accuracy: 98.100\n",
            "Epoch 5/25, Training Loss: 0.079, Training Accuracy: 97.692, Testing Loss: 0.055, Testing Accuracy: 98.390\n",
            "Epoch 6/25, Training Loss: 0.070, Training Accuracy: 97.932, Testing Loss: 0.050, Testing Accuracy: 98.370\n",
            "Epoch 7/25, Training Loss: 0.063, Training Accuracy: 98.175, Testing Loss: 0.045, Testing Accuracy: 98.510\n",
            "Epoch 8/25, Training Loss: 0.058, Training Accuracy: 98.255, Testing Loss: 0.045, Testing Accuracy: 98.510\n",
            "Epoch 9/25, Training Loss: 0.053, Training Accuracy: 98.448, Testing Loss: 0.041, Testing Accuracy: 98.630\n",
            "Epoch 10/25, Training Loss: 0.051, Training Accuracy: 98.518, Testing Loss: 0.040, Testing Accuracy: 98.740\n",
            "Epoch 11/25, Training Loss: 0.047, Training Accuracy: 98.593, Testing Loss: 0.037, Testing Accuracy: 98.760\n",
            "Epoch 12/25, Training Loss: 0.044, Training Accuracy: 98.735, Testing Loss: 0.037, Testing Accuracy: 98.860\n",
            "Epoch 13/25, Training Loss: 0.042, Training Accuracy: 98.783, Testing Loss: 0.036, Testing Accuracy: 98.790\n",
            "Epoch 14/25, Training Loss: 0.040, Training Accuracy: 98.843, Testing Loss: 0.035, Testing Accuracy: 98.910\n",
            "Epoch 15/25, Training Loss: 0.037, Training Accuracy: 98.923, Testing Loss: 0.034, Testing Accuracy: 98.850\n",
            "Epoch 16/25, Training Loss: 0.035, Training Accuracy: 98.973, Testing Loss: 0.031, Testing Accuracy: 98.970\n",
            "Epoch 17/25, Training Loss: 0.033, Training Accuracy: 99.052, Testing Loss: 0.032, Testing Accuracy: 98.920\n",
            "Epoch 18/25, Training Loss: 0.033, Training Accuracy: 99.038, Testing Loss: 0.031, Testing Accuracy: 98.980\n",
            "Epoch 19/25, Training Loss: 0.030, Training Accuracy: 99.145, Testing Loss: 0.030, Testing Accuracy: 99.060\n",
            "Epoch 20/25, Training Loss: 0.030, Training Accuracy: 99.163, Testing Loss: 0.029, Testing Accuracy: 99.030\n",
            "Epoch 21/25, Training Loss: 0.028, Training Accuracy: 99.195, Testing Loss: 0.029, Testing Accuracy: 99.050\n",
            "Epoch 22/25, Training Loss: 0.027, Training Accuracy: 99.198, Testing Loss: 0.029, Testing Accuracy: 99.060\n",
            "Epoch 23/25, Training Loss: 0.026, Training Accuracy: 99.272, Testing Loss: 0.028, Testing Accuracy: 99.050\n",
            "Epoch 24/25, Training Loss: 0.026, Training Accuracy: 99.303, Testing Loss: 0.028, Testing Accuracy: 99.020\n",
            "Epoch 25/25, Training Loss: 0.024, Training Accuracy: 99.322, Testing Loss: 0.028, Testing Accuracy: 99.100\n"
          ]
        }
      ]
    },
    {
      "cell_type": "code",
      "source": [
        "# Plotting the Loss\n",
        "fig = plt.figure(figsize=(10,10))\n",
        "plt.plot(train_loss, label='Training Loss')\n",
        "plt.plot(test_loss, label='Test Loss')\n",
        "plt.legend()\n",
        "plt.show()\n"
      ],
      "metadata": {
        "colab": {
          "base_uri": "https://localhost:8080/",
          "height": 592
        },
        "id": "vP5TEGuuadZ-",
        "outputId": "30400e57-fa52-404c-bf39-424e0d63075c"
      },
      "execution_count": 38,
      "outputs": [
        {
          "output_type": "display_data",
          "data": {
            "text/plain": [
              "<Figure size 720x720 with 1 Axes>"
            ],
            "image/png": "[encoded data removed]"
          },
          "metadata": {
            "needs_background": "light"
          }
        }
      ]
    },
    {
      "cell_type": "code",
      "source": [
        "plt.imshow(test_dataset[10][0].reshape(28,28), cmap='gray')"
      ],
      "metadata": {
        "colab": {
          "base_uri": "https://localhost:8080/",
          "height": 282
        },
        "id": "V1kVrdaYcPA0",
        "outputId": "9707df59-f3a7-4cff-8e18-e5bbc75ab962"
      },
      "execution_count": 39,
      "outputs": [
        {
          "output_type": "execute_result",
          "data": {
            "text/plain": [
              "<matplotlib.image.AxesImage at 0x7fb4e6762700>"
            ]
          },
          "metadata": {},
          "execution_count": 39
        },
        {
          "output_type": "display_data",
          "data": {
            "text/plain": [
              "<Figure size 432x288 with 1 Axes>"
            ],
            "image/png": "[encoded data removed]"
          },
          "metadata": {
            "needs_background": "light"
          }
        }
      ]
    },
    {
      "cell_type": "code",
      "source": [
        "def predict(img_name, model):\n",
        "  image = cv2.imread(img_name, 0)\n",
        "  ret,thresholded = cv2.threshold(image, 127, 255, cv2.THRESH_BINARY)\n",
        "  img = 255-thresholded\n",
        "  cv2_imshow(img)\n",
        "  cv2.waitKey(0)\n",
        "  cv2.destroyAllWindows()\n",
        "  img = Image.fromarray(img)\n",
        "  img = transforms_photo(img)\n",
        "  img = img.view(1, 1, 28, 28)\n",
        "  img = Variable(img)\n",
        "\n",
        "  model.eval()\n",
        "\n",
        "  if torch.cuda.is_available():\n",
        "    model = model.cuda()\n",
        "    img = img.cuda()\n",
        "  \n",
        "  output = model(img)\n",
        "  print(output)\n",
        "  print(output.data)\n",
        "  _, predicted = torch.max(output, 1)\n",
        "\n",
        "  return predicted.item()"
      ],
      "metadata": {
        "id": "OSDY6hy1cgfJ"
      },
      "execution_count": 45,
      "outputs": []
    },
    {
      "cell_type": "markdown",
      "source": [
        "Dışardan veri verip test edilme"
      ],
      "metadata": {
        "id": "Aojh1nauiPNx"
      }
    },
    {
      "cell_type": "code",
      "source": [
        "prediction = predict('handwritten3.png', model)\n",
        "print(\"Tahmin edilen Label : {}\".format(prediction))"
      ],
      "metadata": {
        "colab": {
          "base_uri": "https://localhost:8080/",
          "height": 368
        },
        "id": "VngVT21Ten1c",
        "outputId": "14f0d70b-7964-46a1-e915-45d59e570675"
      },
      "execution_count": 46,
      "outputs": [
        {
          "output_type": "display_data",
          "data": {
            "text/plain": [
              "<PIL.Image.Image image mode=L size=191x264 at 0x7FB4E6762BB0>"
            ],
            "image/png": "[encoded data removed]"
          },
          "metadata": {}
        },
        {
          "output_type": "stream",
          "name": "stdout",
          "text": [
            "tensor([[-5.4792, -0.2227, -1.2939,  7.5989,  0.5703,  2.8836, -0.9984,  1.5386,\n",
            "         -0.0155, -4.0741]], device='cuda:0', grad_fn=<AddmmBackward0>)\n",
            "tensor([[-5.4792, -0.2227, -1.2939,  7.5989,  0.5703,  2.8836, -0.9984,  1.5386,\n",
            "         -0.0155, -4.0741]], device='cuda:0')\n",
            "Tahmin edilen Label : 3\n"
          ]
        }
      ]
    },
    {
      "cell_type": "markdown",
      "source": [
        "Datasetin içinden test edilme;"
      ],
      "metadata": {
        "id": "ztyR8QPsiIpB"
      }
    },
    {
      "cell_type": "code",
      "source": [
        "img = test_dataset[12][0].resize_((1, 1, 28, 28)) #batch_size,channels,heights,width\n",
        "label =test_dataset[12][1]\n",
        "\n",
        "model.eval()\n",
        "CUDA = torch.cuda.is_available()\n",
        "if CUDA:\n",
        "  inputs = inputs.cuda()\n",
        "  img = img.cuda()\n",
        "\n",
        "output = model(img)\n",
        "_, predicted = torch.max(output,1)\n",
        "print(\"Tahmin edilen Label : {}\".format(predicted.item()))\n",
        "print(\"Gerçek Label : {}\".format(label))\n"
      ],
      "metadata": {
        "colab": {
          "base_uri": "https://localhost:8080/"
        },
        "id": "eYeowYsXhD0C",
        "outputId": "2e0a4017-2708-46e5-b107-fc81ae661766"
      },
      "execution_count": 43,
      "outputs": [
        {
          "output_type": "stream",
          "name": "stdout",
          "text": [
            "Tahmin edilen Label : 9\n",
            "Gerçek Label : 9\n"
          ]
        }
      ]
    }
  ]
}